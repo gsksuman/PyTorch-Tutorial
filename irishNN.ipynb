{
 "cells": [
    {
      "cell_type": "code",
      "source": [
        "print('hi')\n"
      ],
      "metadata": {
        "id": "uX8wOYpogb8P",
        "outputId": "00204dc5-a425-40df-bc60-4814c3875c32",
        "colab": {
          "base_uri": "https://localhost:8080/"
        }
      },
      "execution_count": 1,
      "outputs": [
        {
          "output_type": "stream",
          "name": "stdout",
          "text": [
            "hi\n"
          ]
        }
      ]
    }
 ]
}
