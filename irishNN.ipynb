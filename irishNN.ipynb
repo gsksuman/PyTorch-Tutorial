{
    "cells": [
        {
            "cell_type": "code",
            "source": [
                "print('hi')\n"
            ],
            "metadata": {
                "id": "uX8wOYpogb8P",
                "outputId": "00204dc5-a425-40df-bc60-4814c3875c32",
                "colab": {
                    "base_uri": "https://localhost:8080/"
                }
            },
            "execution_count": 1,
            "outputs": [
                {
                    "output_type": "stream",
                    "name": "stdout",
                    "text": [
                        "hi\n"
                    ]
                }
            ]
        },
        {
            "cell_type": "markdown",
            "metadata": {
                "id": "view-in-github",
                "colab_type": "text"
            },
            "source": [
                "<a href=\"https://colab.research.google.com/github/gsksuman/PyTorch-Tutorial/blob/main/Welcome_To_Colab.ipynb\" target=\"_parent\"><img src=\"https://colab.research.google.com/assets/colab-badge.svg\" alt=\"Open In Colab\"/></a>"
            ]
        }
    ],
    "metadata": {
        "colab": {
            "name": "Welcome To Colab",
            "toc_visible": true,
            "provenance": [],
            "gpuType": "T4",
            "include_colab_link": true
        },
        "kernelspec": {
            "display_name": "Python 3",
            "name": "python3"
        },
        "accelerator": "GPU"
    },
    "nbformat": 4,
    "nbformat_minor": 0
}
